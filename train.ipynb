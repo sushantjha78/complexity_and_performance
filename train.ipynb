{
 "metadata": {
  "language_info": {
   "codemirror_mode": {
    "name": "ipython",
    "version": 3
   },
   "file_extension": ".py",
   "mimetype": "text/x-python",
   "name": "python",
   "nbconvert_exporter": "python",
   "pygments_lexer": "ipython3",
   "version": "3.8.8"
  },
  "orig_nbformat": 4,
  "kernelspec": {
   "name": "python3",
   "display_name": "Python 3.8.8 64-bit ('base': conda)"
  },
  "interpreter": {
   "hash": "362322e8e0dcc837651d27533c91fa9e31a3eb428e257bb4daea724089e2155b"
  }
 },
 "nbformat": 4,
 "nbformat_minor": 2,
 "cells": [
  {
   "cell_type": "code",
   "execution_count": 2,
   "source": [
    "import torch\r\n",
    "from PIL import Image\r\n",
    "import torchvision\r\n",
    "import os\r\n",
    "import wandb\r\n"
   ],
   "outputs": [],
   "metadata": {}
  },
  {
   "cell_type": "code",
   "execution_count": 1,
   "source": [
    "\r\n",
    "cwd = str(os.getcwd())\r\n",
    "print(cwd)"
   ],
   "outputs": [
    {
     "output_type": "stream",
     "name": "stdout",
     "text": [
      "c:\\Users\\susha\\Desktop\\complexity_vs_performance\n"
     ]
    }
   ],
   "metadata": {}
  },
  {
   "cell_type": "code",
   "execution_count": 6,
   "source": [
    "\r\n",
    "train_set = torchvision.datasets.CIFAR10(root =cwd, train= True, download = True, transform=torchvision.transforms.ToTensor())\r\n",
    "test_set = torchvision.datasets.CIFAR10(root =cwd, train= False, download = True, transform=torchvision.transforms.ToTensor())\r\n",
    "\r\n",
    "train_loader = torch.utils.data.DataLoader(train_set, batch_size=64, shuffle=True)\r\n",
    "test_loader = torch.utils.data.DataLoader(test_set, batch_size=64, shuffle=True)\r\n"
   ],
   "outputs": [],
   "metadata": {}
  },
  {
   "cell_type": "code",
   "execution_count": 1,
   "source": [
    "def calculate_accuracy(y_pred, y):\r\n",
    "    top_pred = y_pred.argmax(1, keepdim = True)\r\n",
    "    correct = top_pred.eq(y.view_as(top_pred)).sum()\r\n",
    "    acc = correct.float() / y.shape[0]\r\n",
    "    return acc"
   ],
   "outputs": [],
   "metadata": {}
  },
  {
   "cell_type": "code",
   "execution_count": 11,
   "source": [
    "a = torch.tensor([[0.8,0.1,0.1],\r\n",
    "[0.1,0.8,0.1],\r\n",
    "[0.1,0.8,0.1]])\r\n",
    "b = torch.tensor([0,\r\n",
    "2,\r\n",
    "2])\r\n",
    "calculate_accuracy(a,b)"
   ],
   "outputs": [
    {
     "output_type": "execute_result",
     "data": {
      "text/plain": [
       "tensor(0.3333)"
      ]
     },
     "metadata": {},
     "execution_count": 11
    }
   ],
   "metadata": {}
  },
  {
   "cell_type": "code",
   "execution_count": 13,
   "source": [
    "\r\n"
   ],
   "outputs": [
    {
     "output_type": "error",
     "ename": "SyntaxError",
     "evalue": "invalid syntax (<ipython-input-13-bbebb0a3802e>, line 1)",
     "traceback": [
      "\u001b[1;36m  File \u001b[1;32m\"<ipython-input-13-bbebb0a3802e>\"\u001b[1;36m, line \u001b[1;32m1\u001b[0m\n\u001b[1;33m    wandb login\u001b[0m\n\u001b[1;37m          ^\u001b[0m\n\u001b[1;31mSyntaxError\u001b[0m\u001b[1;31m:\u001b[0m invalid syntax\n"
     ]
    }
   ],
   "metadata": {}
  },
  {
   "cell_type": "code",
   "execution_count": 44,
   "source": [
    "import matplotlib.pyplot as plt\r\n",
    "%matplotlib\r\n",
    "for i in range(10,20):\r\n",
    "    plt.figure()\r\n",
    "    imshow(np.asarray(train_set[i][0].permute(1,2,0)))"
   ],
   "outputs": [
    {
     "output_type": "stream",
     "name": "stdout",
     "text": [
      "Using matplotlib backend: Qt5Agg\n"
     ]
    }
   ],
   "metadata": {}
  }
 ]
}